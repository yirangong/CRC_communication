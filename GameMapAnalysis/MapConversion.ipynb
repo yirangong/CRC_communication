{
 "cells": [
  {
   "cell_type": "markdown",
   "id": "5428b109-2447-4bd9-9ca6-f5b9bef0311f",
   "metadata": {},
   "source": [
    "# Export Map For Game Asset\n",
    "input_map should be a list of map indices, after filtering"
   ]
  },
  {
   "cell_type": "code",
   "execution_count": 16,
   "id": "ef90e717-1ff2-4356-a35f-f7042f68747f",
   "metadata": {},
   "outputs": [],
   "source": [
    "# just an example \n",
    "input_map = [10, 11, 15, 26, 27, 30, 52, 59, 63, 67, 70, 73, 78, 88, 90, 91, 94, 97, 100, 103, 106, 123, 131, 135, 141, 143, 147, 152, 153, 154, 156, 161, 163, 166, 183, 187, 196, 212, 214, 216, 223, 227, 239, 248, 257, 258, 259, 291, 296, 304, 307, 308, 313, 324, 339, 343, 347, 357, 360, 362, 366, 383, 390, 397, 399, 401, 410, 413, 415, 427, 430, 432, 434, 437, 442, 444, 445, 448, 455, 462, 465, 475, 492, 496, 502, 510, 515, 526, 529, 535, 538, 539, 540, 545, 554, 556, 562, 564, 568, 574, 575, 579, 585, 600, 605, 606, 611, 616, 621, 627, 628, 644, 646, 647, 648, 657, 658, 663, 669, 671, 672, 674, 675, 679, 684, 709, 710, 713, 735, 740, 756, 757, 768, 771, 778, 780, 790, 803, 806, 808, 812, 823, 824, 827, 830, 839, 842, 845, 869, 881, 883, 893, 897, 898, 905, 908, 916, 924, 936, 938, 945, 949, 954, 955, 962, 966, 972, 973, 979, 984, 985, 987, 993, 994, 998, 1005, 1008, 1011, 1012, 1023, 1024, 1027, 1028, 1055, 1056, 1058, 1060, 1065, 1066, 1080, 1095, 1102, 1104, 1106, 1107, 1113, 1123, 1135, 1137, 1140, 1144, 1147, 1150, 1153, 1158, 1161, 1171, 1176, 1191, 1195, 1198, 1201, 1208, 1215, 1220, 1229, 1230, 1236, 1238, 1242]"
   ]
  },
  {
   "cell_type": "code",
   "execution_count": 18,
   "id": "0a888acf-b9c8-49ad-9204-e144363c8e0e",
   "metadata": {},
   "outputs": [
    {
     "name": "stdout",
     "output_type": "stream",
     "text": [
      "Map indices with filtering:  [10, 11, 15, 26, 27, 30, 52, 59, 63, 67, 70, 73, 78, 88, 90, 91, 94, 97, 100, 103, 106, 123, 131, 135, 141, 143, 147, 152, 153, 154, 156, 161, 163, 166, 183, 187, 196, 212, 214, 216, 223, 227, 239, 248, 257, 258, 259, 291, 296, 304, 307, 308, 313, 324, 339, 343, 347, 357, 360, 362, 366, 383, 390, 397, 399, 401, 410, 413, 415, 427, 430, 432, 434, 437, 442, 444, 445, 448, 455, 462, 465, 475, 492, 496, 502, 510, 515, 526, 529, 535, 538, 539, 540, 545, 554, 556, 562, 564, 568, 574, 575, 579, 585, 600, 605, 606, 611, 616, 621, 627, 628, 644, 646, 647, 648, 657, 658, 663, 669, 671, 672, 674, 675, 679, 684, 709, 710, 713, 735, 740, 756, 757, 768, 771, 778, 780, 790, 803, 806, 808, 812, 823, 824, 827, 830, 839, 842, 845, 869, 881, 883, 893, 897, 898, 905, 908, 916, 924, 936, 938, 945, 949, 954, 955, 962, 966, 972, 973, 979, 984, 985, 987, 993, 994, 998, 1005, 1008, 1011, 1012, 1023, 1024, 1027, 1028, 1055, 1056, 1058, 1060, 1065, 1066, 1080, 1095, 1102, 1104, 1106, 1107, 1113, 1123, 1135, 1137, 1140, 1144, 1147, 1150, 1153, 1158, 1161, 1171, 1176, 1191, 1195, 1198, 1201, 1208, 1215, 1220, 1229, 1230, 1236, 1238, 1242]\n"
     ]
    }
   ],
   "source": [
    "print(\"Map indices with filtering: \", input_map)\n",
    "# print(\"Number of maps: \", len(input_map))"
   ]
  },
  {
   "cell_type": "code",
   "execution_count": 20,
   "id": "48806689-e29e-4981-a1a2-991417828f0a",
   "metadata": {},
   "outputs": [
    {
     "name": "stdout",
     "output_type": "stream",
     "text": [
      "Block 1:  [1123, 26, 455, 674, 153, 883, 621, 154, 1058, 30]\n",
      "Block 2:  [163, 1080, 966, 410, 313, 123, 259, 1229, 1107, 658]\n",
      "Block 3:  [984, 839, 296, 778, 304, 808, 740, 1065, 73, 357]\n",
      "Training_map [11, 78, 131]\n"
     ]
    }
   ],
   "source": [
    "# random sample 30 maps\n",
    "import random\n",
    "sampled_map = random.sample(input_map, 33)\n",
    "\n",
    "block1 = sampled_map[:10]\n",
    "block2 = sampled_map[10:20]\n",
    "block3 = sampled_map[20:30]\n",
    "\n",
    "print(\"Block 1: \", block1)\n",
    "print(\"Block 2: \", block2)\n",
    "print(\"Block 3: \", block3)\n",
    "\n",
    "\"\"\"\n",
    "for map_index in block1:\n",
    "    # coordinates of all cities in the map\n",
    "    print(\"map_index\", map_index)\n",
    "    print(basic_all[map_index][\"x\"])\n",
    "    print(basic_all[map_index][\"y\"])\n",
    "\n",
    "    # first city\n",
    "\n",
    "    map_data = optimal_list[map_index]\n",
    "    start_pos_p1 = map_data[0]  # Path index for Player 1's starting position\n",
    "    start_pos_p2 = map_data[1]  # Path index for Player 2's starting position\n",
    "\n",
    "\"\"\"\n",
    "\n",
    "training_map = sampled_map[30:33]\n",
    "print(\"Training_map\", training_map)\n"
   ]
  },
  {
   "cell_type": "markdown",
   "id": "b6822651-c5dd-43c9-a8a2-0ae6509c89ed",
   "metadata": {},
   "source": [
    "## 📤 Exporting Maps to Excel\n",
    "\n",
    "This section exports selected game maps into an Excel file using the `xlsxwriter` library. The sampled maps are divided into three evaluation blocks and one training block, each written to a separate worksheet. For each map, the x and y coordinates of cities and the starting positions of both players are recorded in a structured table format for easy reference and further use."
   ]
  },
  {
   "cell_type": "code",
   "execution_count": null,
   "id": "c91230ea-8399-4707-97f2-6aec8e10a8cb",
   "metadata": {},
   "outputs": [],
   "source": [
    "import xlsxwriter\n",
    "\n",
    "# Create a workbook and add worksheets for each block\n",
    "workbook = xlsxwriter.Workbook('map_blocks.xlsx')\n",
    "worksheet1 = workbook.add_worksheet(\"Block1\")\n",
    "worksheet2 = workbook.add_worksheet(\"Block2\")\n",
    "worksheet3 = workbook.add_worksheet(\"Block3\")\n",
    "worksheet4 = workbook.add_worksheet(\"Training\")\n",
    "\n",
    "# Your data splitting (adjust if needed)\n",
    "block1 = sampled_map[:10]\n",
    "block2 = sampled_map[10:20]\n",
    "block3 = sampled_map[20:30]  # Will be empty for 20 items\n",
    "training_map = sampled_map[30:33]\n",
    "\n",
    "def write_block(worksheet, block):\n",
    "    row = 0  # Start from the first row (no headers)\n",
    "    for map_index in block:\n",
    "        x_coords = basic_all[map_index][\"x\"]\n",
    "        y_coords = basic_all[map_index][\"y\"]\n",
    "        \n",
    "        # Convert coordinates to semicolon-separated strings\n",
    "        x_str = \"; \".join(str(x) for x in x_coords)\n",
    "        y_str = \"; \".join(str(y) for y in y_coords)\n",
    "        \n",
    "        # First city number for both players\n",
    "        map_data = optimal_list[map_index]\n",
    "        first_x1 = map_data[0]  # Path index for Player 1's starting position\n",
    "        first_x2 = map_data[1]  # Path index for Player 2's starting position\n",
    "\n",
    "        \n",
    "        # Write to Excel columns A to E in the current row\n",
    "        worksheet.write(row, 0, x_str)        # Column A: X coordinates\n",
    "        worksheet.write(row, 1, y_str)        # Column B: Y coordinates\n",
    "        worksheet.write(row, 2, first_x1)      # Column C: First x for player 1\n",
    "        worksheet.write(row, 3, first_x2)      # Column D: First x for player 2 \n",
    "        worksheet.write(row, 4, \":\")          # Column E: Trailing \":\"\n",
    "        row += 1\n",
    "\n",
    "# Write data to each worksheet\n",
    "write_block(worksheet1, block1)\n",
    "write_block(worksheet2, block2)\n",
    "write_block(worksheet3, block3)\n",
    "write_block(worksheet4, training_map)\n",
    "\n",
    "# Close the workbook\n",
    "workbook.close()"
   ]
  }
 ],
 "metadata": {
  "kernelspec": {
   "display_name": "Python 3 (ipykernel)",
   "language": "python",
   "name": "python3"
  },
  "language_info": {
   "codemirror_mode": {
    "name": "ipython",
    "version": 3
   },
   "file_extension": ".py",
   "mimetype": "text/x-python",
   "name": "python",
   "nbconvert_exporter": "python",
   "pygments_lexer": "ipython3",
   "version": "3.11.7"
  }
 },
 "nbformat": 4,
 "nbformat_minor": 5
}
